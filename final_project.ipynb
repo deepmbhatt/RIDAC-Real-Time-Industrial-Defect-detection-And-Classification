{
 "cells": [
  {
   "cell_type": "code",
   "execution_count": null,
   "metadata": {},
   "outputs": [],
   "source": [
    "import cv2\n",
    "import numpy as np\n",
    "from ultralytics import YOLO\n",
    "from tensorflow.keras.models import load_model\n",
    "import os"
   ]
  },
  {
   "cell_type": "code",
   "execution_count": null,
   "metadata": {},
   "outputs": [],
   "source": [
    "# Load the YOLO model with GPU acceleration\n",
    "yolo_model = YOLO('best_models_detect/best_fryums.pt')\n",
    "yolo_model.to('cuda')"
   ]
  },
  {
   "cell_type": "code",
   "execution_count": null,
   "metadata": {},
   "outputs": [],
   "source": [
    "# Load the CNN classification model\n",
    "cnn_model = load_model('path_to_cnn_model.h5')"
   ]
  },
  {
   "cell_type": "code",
   "execution_count": null,
   "metadata": {},
   "outputs": [],
   "source": [
    "# Load the video file\n",
    "video_path = 'path_to_video.mp4'\n",
    "video = cv2.VideoCapture(video_path)"
   ]
  },
  {
   "cell_type": "code",
   "execution_count": null,
   "metadata": {},
   "outputs": [],
   "source": [
    "# Set buffer size for faster video reading\n",
    "video.set(cv2.CAP_PROP_BUFFERSIZE, 3)"
   ]
  },
  {
   "cell_type": "code",
   "execution_count": null,
   "metadata": {},
   "outputs": [],
   "source": [
    "# Get video properties\n",
    "frame_width = int(video.get(cv2.CAP_PROP_FRAME_WIDTH) // 2)\n",
    "frame_height = int(video.get(cv2.CAP_PROP_FRAME_HEIGHT) // 2)\n",
    "fps = int(video.get(cv2.CAP_PROP_FPS))\n",
    "\n",
    "# Initialize VideoWriter to save the output video\n",
    "output_video_path = 'output_video.mp4'\n",
    "fourcc = cv2.VideoWriter_fourcc(*'mp4v')\n",
    "out = cv2.VideoWriter(output_video_path, fourcc, fps, (frame_width, frame_height))\n",
    "\n",
    "frame_skip = 2  # Process every 2nd frame\n",
    "frame_count = 0"
   ]
  },
  {
   "cell_type": "code",
   "execution_count": null,
   "metadata": {},
   "outputs": [],
   "source": [
    "# Process video frames\n",
    "while video.isOpened():\n",
    "    ret, frame = video.read()\n",
    "    frame_count += 1\n",
    "    \n",
    "    # Break the loop if any video frame is not read properly\n",
    "    if not ret:\n",
    "        break\n",
    "    \n",
    "    # Skip frames to increase processing speed\n",
    "    if frame_count % frame_skip != 0:\n",
    "        continue\n",
    "    \n",
    "    # Reduce input resolution for faster processing\n",
    "    frame = cv2.resize(frame, (frame_width, frame_height))\n",
    "    \n",
    "    # Detect objects in the frame using YOLO model\n",
    "    results = yolo_model(frame)\n",
    "    \n",
    "    # Iterate through detected objects and classify them\n",
    "    for result in results:\n",
    "        for box in result.boxes:\n",
    "            x1, y1, x2, y2 = map(int, box.xyxy[0])\n",
    "            \n",
    "            # Crop the detected object from the frame\n",
    "            cropped_frame = frame[y1:y2, x1:x2]\n",
    "            \n",
    "            # Preprocess the cropped frame for CNN model\n",
    "            cropped_frame_resized = cv2.resize(cropped_frame, (224, 224))  # Assuming CNN input size is 224x224\n",
    "            cropped_frame_resized = cropped_frame_resized.astype('float32') / 255.0\n",
    "            cropped_frame_resized = np.expand_dims(cropped_frame_resized, axis=0)\n",
    "            \n",
    "            # Classify the cropped frame using CNN model\n",
    "            prediction = cnn_model.predict(cropped_frame_resized)\n",
    "            class_label = np.argmax(prediction, axis=1)[0]\n",
    "            \n",
    "            # Determine the color of the bounding box\n",
    "            if class_label == 0:  # Assuming 0 is the label for defective\n",
    "                contour_color = (0, 0, 255)  # Red for defective\n",
    "            else:\n",
    "                contour_color = (0, 255, 0)  # Green for non-defective\n",
    "            \n",
    "            # Draw the bounding box on the frame\n",
    "            cv2.rectangle(frame, (x1, y1), (x2, y2), contour_color, 2)\n",
    "    \n",
    "    # Write the frame with bounding boxes to the output video\n",
    "    out.write(frame)\n",
    "    \n",
    "    # Display the frame with bounding boxes (optional)\n",
    "    cv2.imshow('Video with Bounding Boxes', frame)\n",
    "    \n",
    "    # Press 'q' to exit the loop\n",
    "    if cv2.waitKey(1) & 0xFF == ord('q'):\n",
    "        break\n",
    "\n",
    "# Release the video capture and writer objects and close all OpenCV windows\n",
    "video.release()\n",
    "out.release()\n",
    "cv2.destroyAllWindows()"
   ]
  }
 ],
 "metadata": {
  "kernelspec": {
   "display_name": "Python 3",
   "language": "python",
   "name": "python3"
  },
  "language_info": {
   "codemirror_mode": {
    "name": "ipython",
    "version": 3
   },
   "file_extension": ".py",
   "mimetype": "text/x-python",
   "name": "python",
   "nbconvert_exporter": "python",
   "pygments_lexer": "ipython3",
   "version": "3.11.8"
  }
 },
 "nbformat": 4,
 "nbformat_minor": 2
}
